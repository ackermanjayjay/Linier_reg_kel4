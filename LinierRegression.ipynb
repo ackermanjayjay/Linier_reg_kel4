{
 "cells": [
  {
   "cell_type": "code",
   "execution_count": 85,
   "metadata": {},
   "outputs": [],
   "source": [
    "import pandas as pd\n",
    "import matplotlib.pyplot as plt\n",
    "from sklearn.linear_model import LinearRegression\n",
    "from sklearn.model_selection import train_test_split\n",
    "from sklearn import metrics\n",
    "import numpy as np\n"
   ]
  },
  {
   "cell_type": "code",
   "execution_count": 86,
   "metadata": {},
   "outputs": [],
   "source": [
    "dataku2016=pd.read_csv(\"data-penjualan-dan-pajak-bbm-tahun-2016.csv\")\n",
    "dataku2015=pd.read_csv(\"data-penjualan-dan-pajak-bbm-tahun-2015.csv\")"
   ]
  },
  {
   "cell_type": "code",
   "execution_count": 87,
   "metadata": {},
   "outputs": [
    {
     "name": "stdout",
     "output_type": "stream",
     "text": [
      "<class 'pandas.core.frame.DataFrame'>\n",
      "Int64Index: 360 entries, 0 to 155\n",
      "Data columns (total 5 columns):\n",
      " #   Column                        Non-Null Count  Dtype \n",
      "---  ------                        --------------  ----- \n",
      " 0   bulan                         360 non-null    int64 \n",
      " 1   stasiun_pengisian_bahanbakar  360 non-null    object\n",
      " 2   jenis_bahanbakar              360 non-null    object\n",
      " 3   jumlah_penjualan              360 non-null    int64 \n",
      " 4   penerimaan_pajak              360 non-null    int64 \n",
      "dtypes: int64(3), object(2)\n",
      "memory usage: 16.9+ KB\n"
     ]
    }
   ],
   "source": [
    "#Menggabungkan data\n",
    "datakuGabung=pd.concat([dataku2016,dataku2015],join=\"inner\")\n",
    "datakuGabung.info()"
   ]
  },
  {
   "cell_type": "code",
   "execution_count": 88,
   "metadata": {},
   "outputs": [
    {
     "data": {
      "text/html": [
       "<div>\n",
       "<style scoped>\n",
       "    .dataframe tbody tr th:only-of-type {\n",
       "        vertical-align: middle;\n",
       "    }\n",
       "\n",
       "    .dataframe tbody tr th {\n",
       "        vertical-align: top;\n",
       "    }\n",
       "\n",
       "    .dataframe thead th {\n",
       "        text-align: right;\n",
       "    }\n",
       "</style>\n",
       "<table border=\"1\" class=\"dataframe\">\n",
       "  <thead>\n",
       "    <tr style=\"text-align: right;\">\n",
       "      <th></th>\n",
       "      <th>bulan</th>\n",
       "      <th>stasiun_pengisian_bahanbakar</th>\n",
       "      <th>jenis_bahanbakar</th>\n",
       "      <th>jumlah_penjualan</th>\n",
       "      <th>penerimaan_pajak</th>\n",
       "    </tr>\n",
       "  </thead>\n",
       "  <tbody>\n",
       "    <tr>\n",
       "      <th>0</th>\n",
       "      <td>1</td>\n",
       "      <td>Pertamina</td>\n",
       "      <td>Bio Solar</td>\n",
       "      <td>42407041</td>\n",
       "      <td>10525855948</td>\n",
       "    </tr>\n",
       "    <tr>\n",
       "      <th>1</th>\n",
       "      <td>1</td>\n",
       "      <td>Pertamina</td>\n",
       "      <td>Solar</td>\n",
       "      <td>23003789</td>\n",
       "      <td>6199987321</td>\n",
       "    </tr>\n",
       "    <tr>\n",
       "      <th>2</th>\n",
       "      <td>1</td>\n",
       "      <td>Pertamina</td>\n",
       "      <td>Premium</td>\n",
       "      <td>134009663</td>\n",
       "      <td>41428120949</td>\n",
       "    </tr>\n",
       "    <tr>\n",
       "      <th>3</th>\n",
       "      <td>1</td>\n",
       "      <td>Pertamina</td>\n",
       "      <td>Pertalite</td>\n",
       "      <td>15232000</td>\n",
       "      <td>5229147971</td>\n",
       "    </tr>\n",
       "    <tr>\n",
       "      <th>4</th>\n",
       "      <td>1</td>\n",
       "      <td>Pertamina</td>\n",
       "      <td>Pertamax</td>\n",
       "      <td>34835000</td>\n",
       "      <td>12816101073</td>\n",
       "    </tr>\n",
       "  </tbody>\n",
       "</table>\n",
       "</div>"
      ],
      "text/plain": [
       "   bulan stasiun_pengisian_bahanbakar jenis_bahanbakar  jumlah_penjualan  \\\n",
       "0      1                    Pertamina        Bio Solar          42407041   \n",
       "1      1                    Pertamina            Solar          23003789   \n",
       "2      1                    Pertamina          Premium         134009663   \n",
       "3      1                    Pertamina        Pertalite          15232000   \n",
       "4      1                    Pertamina         Pertamax          34835000   \n",
       "\n",
       "   penerimaan_pajak  \n",
       "0       10525855948  \n",
       "1        6199987321  \n",
       "2       41428120949  \n",
       "3        5229147971  \n",
       "4       12816101073  "
      ]
     },
     "execution_count": 88,
     "metadata": {},
     "output_type": "execute_result"
    }
   ],
   "source": [
    "datakuGabung.head()"
   ]
  },
  {
   "cell_type": "code",
   "execution_count": 89,
   "metadata": {},
   "outputs": [],
   "source": [
    "#Hasl gabungan data dijadikan 1 file csv\n",
    "dataku=datakuGabung.to_csv(\"databbm.csv\",index=False)"
   ]
  },
  {
   "cell_type": "code",
   "execution_count": 90,
   "metadata": {},
   "outputs": [
    {
     "data": {
      "text/html": [
       "<div>\n",
       "<style scoped>\n",
       "    .dataframe tbody tr th:only-of-type {\n",
       "        vertical-align: middle;\n",
       "    }\n",
       "\n",
       "    .dataframe tbody tr th {\n",
       "        vertical-align: top;\n",
       "    }\n",
       "\n",
       "    .dataframe thead th {\n",
       "        text-align: right;\n",
       "    }\n",
       "</style>\n",
       "<table border=\"1\" class=\"dataframe\">\n",
       "  <thead>\n",
       "    <tr style=\"text-align: right;\">\n",
       "      <th></th>\n",
       "      <th>bulan</th>\n",
       "      <th>stasiun_pengisian_bahanbakar</th>\n",
       "      <th>jenis_bahanbakar</th>\n",
       "      <th>jumlah_penjualan</th>\n",
       "      <th>penerimaan_pajak</th>\n",
       "    </tr>\n",
       "  </thead>\n",
       "  <tbody>\n",
       "    <tr>\n",
       "      <th>0</th>\n",
       "      <td>1</td>\n",
       "      <td>Pertamina</td>\n",
       "      <td>Bio Solar</td>\n",
       "      <td>42407041</td>\n",
       "      <td>10525855948</td>\n",
       "    </tr>\n",
       "    <tr>\n",
       "      <th>1</th>\n",
       "      <td>1</td>\n",
       "      <td>Pertamina</td>\n",
       "      <td>Solar</td>\n",
       "      <td>23003789</td>\n",
       "      <td>6199987321</td>\n",
       "    </tr>\n",
       "    <tr>\n",
       "      <th>2</th>\n",
       "      <td>1</td>\n",
       "      <td>Pertamina</td>\n",
       "      <td>Premium</td>\n",
       "      <td>134009663</td>\n",
       "      <td>41428120949</td>\n",
       "    </tr>\n",
       "    <tr>\n",
       "      <th>3</th>\n",
       "      <td>1</td>\n",
       "      <td>Pertamina</td>\n",
       "      <td>Pertalite</td>\n",
       "      <td>15232000</td>\n",
       "      <td>5229147971</td>\n",
       "    </tr>\n",
       "    <tr>\n",
       "      <th>4</th>\n",
       "      <td>1</td>\n",
       "      <td>Pertamina</td>\n",
       "      <td>Pertamax</td>\n",
       "      <td>34835000</td>\n",
       "      <td>12816101073</td>\n",
       "    </tr>\n",
       "  </tbody>\n",
       "</table>\n",
       "</div>"
      ],
      "text/plain": [
       "   bulan stasiun_pengisian_bahanbakar jenis_bahanbakar  jumlah_penjualan  \\\n",
       "0      1                    Pertamina        Bio Solar          42407041   \n",
       "1      1                    Pertamina            Solar          23003789   \n",
       "2      1                    Pertamina          Premium         134009663   \n",
       "3      1                    Pertamina        Pertalite          15232000   \n",
       "4      1                    Pertamina         Pertamax          34835000   \n",
       "\n",
       "   penerimaan_pajak  \n",
       "0       10525855948  \n",
       "1        6199987321  \n",
       "2       41428120949  \n",
       "3        5229147971  \n",
       "4       12816101073  "
      ]
     },
     "execution_count": 90,
     "metadata": {},
     "output_type": "execute_result"
    }
   ],
   "source": [
    "dataku=pd.read_csv(\"databbm.csv\")\n",
    "dataku.head()"
   ]
  },
  {
   "cell_type": "code",
   "execution_count": 91,
   "metadata": {},
   "outputs": [
    {
     "name": "stdout",
     "output_type": "stream",
     "text": [
      "<class 'pandas.core.frame.DataFrame'>\n",
      "RangeIndex: 360 entries, 0 to 359\n",
      "Data columns (total 5 columns):\n",
      " #   Column                        Non-Null Count  Dtype \n",
      "---  ------                        --------------  ----- \n",
      " 0   bulan                         360 non-null    int64 \n",
      " 1   stasiun_pengisian_bahanbakar  360 non-null    object\n",
      " 2   jenis_bahanbakar              360 non-null    object\n",
      " 3   jumlah_penjualan              360 non-null    int64 \n",
      " 4   penerimaan_pajak              360 non-null    int64 \n",
      "dtypes: int64(3), object(2)\n",
      "memory usage: 14.2+ KB\n"
     ]
    }
   ],
   "source": [
    "dataku.info()"
   ]
  },
  {
   "cell_type": "markdown",
   "metadata": {},
   "source": [
    "# Preprocessing data bulan menjadi object"
   ]
  },
  {
   "cell_type": "code",
   "execution_count": 92,
   "metadata": {},
   "outputs": [
    {
     "name": "stdout",
     "output_type": "stream",
     "text": [
      "<class 'pandas.core.frame.DataFrame'>\n",
      "RangeIndex: 360 entries, 0 to 359\n",
      "Data columns (total 5 columns):\n",
      " #   Column                        Non-Null Count  Dtype \n",
      "---  ------                        --------------  ----- \n",
      " 0   bulan                         360 non-null    object\n",
      " 1   stasiun_pengisian_bahanbakar  360 non-null    object\n",
      " 2   jenis_bahanbakar              360 non-null    object\n",
      " 3   jumlah_penjualan              360 non-null    int64 \n",
      " 4   penerimaan_pajak              360 non-null    int64 \n",
      "dtypes: int64(2), object(3)\n",
      "memory usage: 14.2+ KB\n"
     ]
    }
   ],
   "source": [
    "dataku['bulan']=dataku['bulan'].astype(str)\n",
    "dataku.info()"
   ]
  },
  {
   "cell_type": "code",
   "execution_count": 93,
   "metadata": {},
   "outputs": [
    {
     "data": {
      "text/html": [
       "<div>\n",
       "<style scoped>\n",
       "    .dataframe tbody tr th:only-of-type {\n",
       "        vertical-align: middle;\n",
       "    }\n",
       "\n",
       "    .dataframe tbody tr th {\n",
       "        vertical-align: top;\n",
       "    }\n",
       "\n",
       "    .dataframe thead th {\n",
       "        text-align: right;\n",
       "    }\n",
       "</style>\n",
       "<table border=\"1\" class=\"dataframe\">\n",
       "  <thead>\n",
       "    <tr style=\"text-align: right;\">\n",
       "      <th></th>\n",
       "      <th>jumlah_penjualan</th>\n",
       "      <th>penerimaan_pajak</th>\n",
       "    </tr>\n",
       "  </thead>\n",
       "  <tbody>\n",
       "    <tr>\n",
       "      <th>count</th>\n",
       "      <td>3.600000e+02</td>\n",
       "      <td>3.600000e+02</td>\n",
       "    </tr>\n",
       "    <tr>\n",
       "      <th>mean</th>\n",
       "      <td>1.572236e+07</td>\n",
       "      <td>4.960215e+09</td>\n",
       "    </tr>\n",
       "    <tr>\n",
       "      <th>std</th>\n",
       "      <td>3.345527e+07</td>\n",
       "      <td>1.037035e+10</td>\n",
       "    </tr>\n",
       "    <tr>\n",
       "      <th>min</th>\n",
       "      <td>0.000000e+00</td>\n",
       "      <td>0.000000e+00</td>\n",
       "    </tr>\n",
       "    <tr>\n",
       "      <th>25%</th>\n",
       "      <td>0.000000e+00</td>\n",
       "      <td>0.000000e+00</td>\n",
       "    </tr>\n",
       "    <tr>\n",
       "      <th>50%</th>\n",
       "      <td>6.640000e+05</td>\n",
       "      <td>4.423370e+08</td>\n",
       "    </tr>\n",
       "    <tr>\n",
       "      <th>75%</th>\n",
       "      <td>1.522600e+07</td>\n",
       "      <td>4.961402e+09</td>\n",
       "    </tr>\n",
       "    <tr>\n",
       "      <th>max</th>\n",
       "      <td>1.556153e+08</td>\n",
       "      <td>4.932697e+10</td>\n",
       "    </tr>\n",
       "  </tbody>\n",
       "</table>\n",
       "</div>"
      ],
      "text/plain": [
       "       jumlah_penjualan  penerimaan_pajak\n",
       "count      3.600000e+02      3.600000e+02\n",
       "mean       1.572236e+07      4.960215e+09\n",
       "std        3.345527e+07      1.037035e+10\n",
       "min        0.000000e+00      0.000000e+00\n",
       "25%        0.000000e+00      0.000000e+00\n",
       "50%        6.640000e+05      4.423370e+08\n",
       "75%        1.522600e+07      4.961402e+09\n",
       "max        1.556153e+08      4.932697e+10"
      ]
     },
     "execution_count": 93,
     "metadata": {},
     "output_type": "execute_result"
    }
   ],
   "source": [
    "# #Melihat statistical description dari data mulai dari mean, kuartil, standard deviation dll.\n",
    "dataku.describe()"
   ]
  },
  {
   "cell_type": "code",
   "execution_count": 94,
   "metadata": {},
   "outputs": [
    {
     "data": {
      "text/plain": [
       "bulan                           0\n",
       "stasiun_pengisian_bahanbakar    0\n",
       "jenis_bahanbakar                0\n",
       "jumlah_penjualan                0\n",
       "penerimaan_pajak                0\n",
       "dtype: int64"
      ]
     },
     "execution_count": 94,
     "metadata": {},
     "output_type": "execute_result"
    }
   ],
   "source": [
    "#Mencari dan menangani missing values.\n",
    "#Ternyata data kita tidak ada missing values.\n",
    "dataku.isnull().sum()\n"
   ]
  },
  {
   "cell_type": "markdown",
   "metadata": {},
   "source": [
    "Data diatas tidak ada missing value"
   ]
  },
  {
   "cell_type": "code",
   "execution_count": 95,
   "metadata": {},
   "outputs": [
    {
     "data": {
      "image/png": "[encoded data removed]",
      "text/plain": [
       "<Figure size 864x288 with 2 Axes>"
      ]
     },
     "metadata": {
      "needs_background": "light"
     },
     "output_type": "display_data"
    }
   ],
   "source": [
    "#Univariate analysis Jumlah penjualan\n",
    "#Melihat distribusi dari Jumlah penjualan\n",
    "f = plt.figure(figsize=(12,4))\n",
    "f.add_subplot(1,2,1)\n",
    "dataku['jumlah_penjualan'].plot(kind='kde')\n",
    "f.add_subplot(1,2,2)\n",
    "plt.boxplot(dataku['jumlah_penjualan'])\n",
    "plt.show()"
   ]
  },
  {
   "cell_type": "markdown",
   "metadata": {},
   "source": [
    "# Data jumlah penjualan memiliki banyak outlier\n",
    "# Data mean dan mediannya terpusat pada nilai 0.0\n",
    "# Distribusinya lebih ke right skew"
   ]
  },
  {
   "cell_type": "code",
   "execution_count": 96,
   "metadata": {},
   "outputs": [
    {
     "data": {
      "image/png": "[encoded data removed]",
      "text/plain": [
       "<Figure size 864x288 with 2 Axes>"
      ]
     },
     "metadata": {
      "needs_background": "light"
     },
     "output_type": "display_data"
    }
   ],
   "source": [
    "#Univariate analysis penerimaan pajak\n",
    "#Melihat distribusi dari penerimaan pajak\n",
    "f = plt.figure(figsize=(12,4))\n",
    "f.add_subplot(1,2,1)\n",
    "dataku['penerimaan_pajak'].plot(kind='kde')\n",
    "f.add_subplot(1,2,2)\n",
    "plt.boxplot(dataku['penerimaan_pajak'])\n",
    "plt.show()"
   ]
  },
  {
   "cell_type": "markdown",
   "metadata": {},
   "source": [
    "# Sama dengan jumlah penjualan, data penerimaan pajak juga memiliki banyak outlier\n",
    "# Data jumlah penjualan memiliki banyak outlier\n",
    "# Data mean dan mediannya terpusat pada nilai 0\n",
    "# Distribusinya lebih ke left skew karena mean nya lebih besar"
   ]
  },
  {
   "cell_type": "code",
   "execution_count": 97,
   "metadata": {},
   "outputs": [
    {
     "data": {
      "image/png": "[encoded data removed]",
      "text/plain": [
       "<Figure size 432x288 with 1 Axes>"
      ]
     },
     "metadata": {
      "needs_background": "light"
     },
     "output_type": "display_data"
    }
   ],
   "source": [
    "#Bivariate analysis jumlah penjualan dan penerimaan pajak.\n",
    "#Menggunakan scatter plot.\n",
    "plt.scatter(dataku['jumlah_penjualan'], dataku['penerimaan_pajak'])\n",
    "plt.xlabel('jumlah_penjualan')\n",
    "plt.ylabel('penerimaan_pajak')\n",
    "plt.title('Scatter Plot Jumlah penjualan vs Perimaan_pajak')\n",
    "plt.show()"
   ]
  },
  {
   "cell_type": "code",
   "execution_count": 98,
   "metadata": {},
   "outputs": [
    {
     "data": {
      "text/html": [
       "<div>\n",
       "<style scoped>\n",
       "    .dataframe tbody tr th:only-of-type {\n",
       "        vertical-align: middle;\n",
       "    }\n",
       "\n",
       "    .dataframe tbody tr th {\n",
       "        vertical-align: top;\n",
       "    }\n",
       "\n",
       "    .dataframe thead th {\n",
       "        text-align: right;\n",
       "    }\n",
       "</style>\n",
       "<table border=\"1\" class=\"dataframe\">\n",
       "  <thead>\n",
       "    <tr style=\"text-align: right;\">\n",
       "      <th></th>\n",
       "      <th>jumlah_penjualan</th>\n",
       "      <th>penerimaan_pajak</th>\n",
       "    </tr>\n",
       "  </thead>\n",
       "  <tbody>\n",
       "    <tr>\n",
       "      <th>jumlah_penjualan</th>\n",
       "      <td>1.000000</td>\n",
       "      <td>0.995769</td>\n",
       "    </tr>\n",
       "    <tr>\n",
       "      <th>penerimaan_pajak</th>\n",
       "      <td>0.995769</td>\n",
       "      <td>1.000000</td>\n",
       "    </tr>\n",
       "  </tbody>\n",
       "</table>\n",
       "</div>"
      ],
      "text/plain": [
       "                  jumlah_penjualan  penerimaan_pajak\n",
       "jumlah_penjualan          1.000000          0.995769\n",
       "penerimaan_pajak          0.995769          1.000000"
      ]
     },
     "execution_count": 98,
     "metadata": {},
     "output_type": "execute_result"
    }
   ],
   "source": [
    "#Mengetahui nilai korelasi dari horsepower dan price.\n",
    "#Nilai korelasinya adalah 0.99 termasuk kategori sangat tinggi.\n",
    "dataku.corr()"
   ]
  },
  {
   "cell_type": "code",
   "execution_count": 99,
   "metadata": {},
   "outputs": [],
   "source": [
    "#Pertama, buat variabel x dan y.\n",
    "dataX = dataku['jumlah_penjualan'].values.reshape(-1,1)\n",
    "dataY = dataku['penerimaan_pajak'].values.reshape(-1,1)"
   ]
  },
  {
   "cell_type": "code",
   "execution_count": 100,
   "metadata": {},
   "outputs": [],
   "source": [
    "#kita split data kita menjadi training and testing dengan porsi 80:20.\n",
    "dataX_train, dataX_test, dataY_train, dataY_test = train_test_split(dataX, dataY, test_size=0.2,random_state=0)"
   ]
  },
  {
   "cell_type": "code",
   "execution_count": 101,
   "metadata": {},
   "outputs": [
    {
     "data": {
      "image/png": "[encoded data removed]",
      "text/plain": [
       "<Figure size 432x288 with 1 Axes>"
      ]
     },
     "metadata": {
      "needs_background": "light"
     },
     "output_type": "display_data"
    }
   ],
   "source": [
    "plt.scatter(dataX_train,dataY_train,label=\"Data latih\",color='r')\n",
    "plt.scatter(dataX_test,dataY_test,label=\"Data test\",color='g')\n",
    "plt.legend()\n",
    "plt.title(\"Scatter train split\")\n",
    "plt.show()"
   ]
  },
  {
   "cell_type": "code",
   "execution_count": 102,
   "metadata": {},
   "outputs": [
    {
     "name": "stdout",
     "output_type": "stream",
     "text": [
      "Koefisien(m):  [[308.12881705]]\n",
      "Intercept(b):  [1.22959406e+08]\n"
     ]
    }
   ],
   "source": [
    "# buat object liner regresi\n",
    "Lin_Reg=LinearRegression()\n",
    "\n",
    "#training the model menggunakan training data yang sudah displit sebelumnya.\n",
    "Lin_Reg.fit(dataX_train,dataY_train)\n",
    "\n",
    "#Melihat nilai slope/koef(m) dan intercept(b)\n",
    "print(\"Koefisien(m): \",Lin_Reg.coef_)\n",
    "print(\"Intercept(b): \",Lin_Reg.intercept_)"
   ]
  },
  {
   "cell_type": "code",
   "execution_count": 103,
   "metadata": {},
   "outputs": [
    {
     "data": {
      "text/plain": [
       "<matplotlib.legend.Legend at 0x233cedfed90>"
      ]
     },
     "execution_count": 103,
     "metadata": {},
     "output_type": "execute_result"
    },
    {
     "data": {
      "image/png": "[encoded data removed]",
      "text/plain": [
       "<Figure size 432x288 with 1 Axes>"
      ]
     },
     "metadata": {
      "needs_background": "light"
     },
     "output_type": "display_data"
    }
   ],
   "source": [
    "# visualisasi Regression Line menggunakan data testing.\n",
    "y_prediksi = Lin_Reg.predict(dataX_test)\n",
    "plt.scatter(dataX_test, dataY_test,label=\"data testing sudah di fit\",c='g')\n",
    "plt.plot(dataX_test, y_prediksi,label=\"Linier regression\", c='r')\n",
    "plt.xlabel('Jumlah penjualan')\n",
    "plt.ylabel('Penerimaan pajak')\n",
    "plt.title('Plot Jumlah penjualan vs Penerimaan pajak')\n",
    "plt.legend()"
   ]
  },
  {
   "cell_type": "code",
   "execution_count": 108,
   "metadata": {},
   "outputs": [
    {
     "data": {
      "text/html": [
       "<div>\n",
       "<style scoped>\n",
       "    .dataframe tbody tr th:only-of-type {\n",
       "        vertical-align: middle;\n",
       "    }\n",
       "\n",
       "    .dataframe tbody tr th {\n",
       "        vertical-align: top;\n",
       "    }\n",
       "\n",
       "    .dataframe thead th {\n",
       "        text-align: right;\n",
       "    }\n",
       "</style>\n",
       "<table border=\"1\" class=\"dataframe\">\n",
       "  <thead>\n",
       "    <tr style=\"text-align: right;\">\n",
       "      <th></th>\n",
       "      <th>Actual</th>\n",
       "      <th>Predicted</th>\n",
       "    </tr>\n",
       "  </thead>\n",
       "  <tbody>\n",
       "    <tr>\n",
       "      <th>0</th>\n",
       "      <td>604557900</td>\n",
       "      <td>5.746763e+08</td>\n",
       "    </tr>\n",
       "    <tr>\n",
       "      <th>1</th>\n",
       "      <td>567757873</td>\n",
       "      <td>5.216781e+08</td>\n",
       "    </tr>\n",
       "    <tr>\n",
       "      <th>2</th>\n",
       "      <td>14110606896</td>\n",
       "      <td>1.372893e+10</td>\n",
       "    </tr>\n",
       "    <tr>\n",
       "      <th>3</th>\n",
       "      <td>34174912</td>\n",
       "      <td>1.476097e+08</td>\n",
       "    </tr>\n",
       "    <tr>\n",
       "      <th>4</th>\n",
       "      <td>1526249938</td>\n",
       "      <td>1.434048e+09</td>\n",
       "    </tr>\n",
       "    <tr>\n",
       "      <th>5</th>\n",
       "      <td>647626198</td>\n",
       "      <td>6.817442e+08</td>\n",
       "    </tr>\n",
       "    <tr>\n",
       "      <th>6</th>\n",
       "      <td>47398669009</td>\n",
       "      <td>4.807253e+10</td>\n",
       "    </tr>\n",
       "    <tr>\n",
       "      <th>7</th>\n",
       "      <td>466756155</td>\n",
       "      <td>1.457773e+08</td>\n",
       "    </tr>\n",
       "    <tr>\n",
       "      <th>8</th>\n",
       "      <td>6635130249</td>\n",
       "      <td>6.504923e+09</td>\n",
       "    </tr>\n",
       "    <tr>\n",
       "      <th>9</th>\n",
       "      <td>5005188385</td>\n",
       "      <td>5.527687e+09</td>\n",
       "    </tr>\n",
       "  </tbody>\n",
       "</table>\n",
       "</div>"
      ],
      "text/plain": [
       "        Actual     Predicted\n",
       "0    604557900  5.746763e+08\n",
       "1    567757873  5.216781e+08\n",
       "2  14110606896  1.372893e+10\n",
       "3     34174912  1.476097e+08\n",
       "4   1526249938  1.434048e+09\n",
       "5    647626198  6.817442e+08\n",
       "6  47398669009  4.807253e+10\n",
       "7    466756155  1.457773e+08\n",
       "8   6635130249  6.504923e+09\n",
       "9   5005188385  5.527687e+09"
      ]
     },
     "execution_count": 108,
     "metadata": {},
     "output_type": "execute_result"
    }
   ],
   "source": [
    "df = pd.DataFrame({'Actual': dataY_test.flatten(), 'Predicted': y_prediksi.flatten()})\n",
    "df.head(10)\n",
    "#Tabel prediksi jumlah penjualan dengan penerimaan pajak"
   ]
  },
  {
   "cell_type": "code",
   "execution_count": 109,
   "metadata": {},
   "outputs": [
    {
     "data": {
      "text/plain": [
       "array([[1.22990219e+08]])"
      ]
     },
     "execution_count": 109,
     "metadata": {},
     "output_type": "execute_result"
    }
   ],
   "source": [
    "Lin_Reg.predict([[100]])\n",
    "#prediksi jumlah penjualan 100 dengan penerimaan pajak\n",
    "#maka penerimaan pajaknya sebesar 1.22990219e+08"
   ]
  },
  {
   "cell_type": "code",
   "execution_count": 106,
   "metadata": {},
   "outputs": [
    {
     "name": "stdout",
     "output_type": "stream",
     "text": [
      "Mean Absolute Error: 547386811.7670481\n",
      "Mean Squared Error: 1.1705353101210278e+18\n",
      "Root Mean Squared Error: 1081912801.53302\n"
     ]
    }
   ],
   "source": [
    "print('Mean Absolute Error:', metrics.mean_absolute_error(dataY_test, y_prediksi))  \n",
    "print('Mean Squared Error:', metrics.mean_squared_error(dataY_test, y_prediksi))  \n",
    "print('Root Mean Squared Error:', np.sqrt(metrics.mean_squared_error(dataY_test, y_prediksi)))\n"
   ]
  },
  {
   "cell_type": "code",
   "execution_count": 107,
   "metadata": {},
   "outputs": [
    {
     "data": {
      "text/plain": [
       "0.9907201765937957"
      ]
     },
     "execution_count": 107,
     "metadata": {},
     "output_type": "execute_result"
    }
   ],
   "source": [
    "Lin_Reg.score(dataX_test, dataY_test)\n",
    "# Model kita mendapatkan accuracy score sebesar 99.07%"
   ]
  }
 ],
 "metadata": {
  "interpreter": {
   "hash": "266eee74bc701e1018dd134c2effed729e1544e949035e930f53042172606107"
  },
  "kernelspec": {
   "display_name": "Python 3.8.11 64-bit ('base': conda)",
   "language": "python",
   "name": "python3"
  },
  "language_info": {
   "codemirror_mode": {
    "name": "ipython",
    "version": 3
   },
   "file_extension": ".py",
   "mimetype": "text/x-python",
   "name": "python",
   "nbconvert_exporter": "python",
   "pygments_lexer": "ipython3",
   "version": "3.8.11"
  },
  "orig_nbformat": 4
 },
 "nbformat": 4,
 "nbformat_minor": 2
}
